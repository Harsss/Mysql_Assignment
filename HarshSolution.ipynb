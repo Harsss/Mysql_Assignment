{
 "cells": [
  {
   "cell_type": "markdown",
   "id": "retained-reservation",
   "metadata": {},
   "source": [
    "<img src=\"https://raw.githubusercontent.com/afo/data-x-plaksha/master/imgsource/dx_logo.png\" align=\"left\"></img><br><br><br><br>"
   ]
  },
  {
   "cell_type": "markdown",
   "id": "exotic-tender",
   "metadata": {},
   "source": [
    "## Plaksha SQL assignment"
   ]
  },
  {
   "cell_type": "markdown",
   "id": "medical-problem",
   "metadata": {},
   "source": [
    "---\n",
    "\n",
    "## Submission details:\n",
    "\n",
    "Please submit this as a Jupyter Notebook and a PDF of your results (both should show output). Also push your solutions to Github.\n",
    "\n",
    "For the submision create a local database with `sqlite3` or `sqlalchemy` in a Jupyter notebook and make the queries either with a cursor object (and then print the results) or by using pandas `pd.read_sql_query()`."
   ]
  },
  {
   "cell_type": "markdown",
   "id": "offshore-enzyme",
   "metadata": {},
   "source": [
    "___\n",
    "\n",
    "When completing this homework you can experiment with SQL commands by utilizing this great online editor:\n",
    "\n",
    "https://www.w3schools.com/sql/trysql.asp?filename=trysql_select_all\n",
    "\n",
    "There are already some tables in the online Database, namely:\n",
    "\n",
    "`Categories, Employees, OrderDetails, Orders, Products, Shippers, and Suppliers.`\n",
    "\n",
    "If you want you can drop them by running  `DROP TABLE [table-name];` (or just keep them)."
   ]
  },
  {
   "cell_type": "markdown",
   "id": "extensive-hearts",
   "metadata": {},
   "source": [
    "___\n",
    "\n",
    "## Exercises:\n",
    "\n",
    "First create a table called students. It has the columns: 'student_id', 'name', 'major', 'gpa' and 'enrollment_date' We will use a new form of `CREATE TABLE` expression to produce this table.\n",
    "\n",
    "Note that you can improve this and are welcome to do so -- e.g. by specifying for example a PRIMARY KEY and a FOREIGN KEY in Q2 :)\n",
    "\n",
    "    CREATE TABLE students AS\n",
    "        SELECT 1 AS student_id, \"John\" AS name, \"Computer Science\" AS major, 3.5 AS gpa, \"01-01-2022\" AS enrollment_date UNION\n",
    "        SELECT 2, \"Jane\", \"Physics\", 3.8, \"01-02-2022\" UNION\n",
    "        SELECT 3, \"Bob\", \"Engineering\", 3.0, \"01-03-2022\" UNION\n",
    "        SELECT 4, \"Samantha\", \"Physics\", 3.9, \"01-04-2022\" UNION\n",
    "        SELECT 5, \"James\", \"Engineering\", 3.7, \"01-05-2022\" UNION\n",
    "        SELECT 6, \"Emily\", \"Computer Science\", 3.6, \"01-06-2022\" UNION\n",
    "        SELECT 7, \"Michael\", \"Computer Science\", 3.2, \"01-07-2022\" UNION\n",
    "        SELECT 8, \"Jessica\", \"Engineering\", 3.8, \"01-08-2022\" UNION\n",
    "        SELECT 9, \"Jacob\", \"Physics\", 3.4, \"01-09-2022\" UNION\n",
    "        SELECT 10, \"Ashley\", \"Physics\", 3.9, \"01-10-2022\";\n",
    "\n",
    "\n",
    "## Q1 Simple SELECTS (on the students table)\n",
    "1. SELECT all records in the table.\n",
    "2. SELECT students whose major is \"Computer Science\".\n",
    "3. SELECT all unique majors (use SELECT DISTINCT) and order them by name, descending order (i.e. Physics first).\n",
    "4. SELECT all students that have an 'e' in their name and order them by gpa in ascending order.\n",
    "\n",
    "\n",
    "## Q2 Joins\n",
    "\n",
    "Create a new table called courses, which indicates the courses taken by the students. \n",
    "\n",
    "Create the table by running:\n",
    "\t\n",
    "    CREATE TABLE courses AS\n",
    "        SELECT 1 AS course_id, \"Python programming\" AS course_name, 1 AS student_id, \"A\" AS grade UNION\n",
    "        SELECT 2, \"Data Structures\", 2, \"B\" UNION\n",
    "        SELECT 3, \"Database Systems\", 3, \"B\" UNION\n",
    "        SELECT 1, \"Python programming\", 4, \"A\" UNION\n",
    "        SELECT 4, \"Quantum Mechanics\", 5, \"C\" UNION\n",
    "        SELECT 1, \"Python programming\", 6, \"F\" UNION\n",
    "        SELECT 2, \"Data Structures\", 7, \"C\" UNION\n",
    "        SELECT 3, \"Database Systems\", 8, \"A\" UNION\n",
    "        SELECT 4, \"Quantum Mechanics\", 9, \"A\" UNION\n",
    "        SELECT 2, \"Data Structures\", 10, \"F\";\n",
    "\n",
    "1. COUNT the number of unique courses.\n",
    "2. JOIN the tables students and courses and COUNT the number of students with the major Computer Science taking the course Python programming.\n",
    "3. JOIN the tables students and courses and select the students who have grades higher than \"C\", only show their name, major, gpa, course_name and grade.\n",
    "\n",
    "\n",
    "## Q3 Aggregate functions, numerical logic and grouping\n",
    "\n",
    "1. Find the average gpa of all students.\n",
    "2. SELECT the student with the maximum gpa, display only their student_id, major and gpa\n",
    "3. SELECT the student with the minimum gpa, display only their student_id, major and gpa\n",
    "4. SELECT the students with a gpa greater than 3.6 in the majors of \"Physics\" and \"Engineering\", display only their student_id, major and gpa\n",
    "5. Group the students by their major and retrieve the average grade of each major.\n",
    "6. SELECT the top 2 students with the highest GPA in each major and order the results by major in ascending order, then by GPA in descending order"
   ]
  },
  {
   "cell_type": "markdown",
   "id": "timely-input",
   "metadata": {},
   "source": [
    "# Your solution"
   ]
  },
  {
   "cell_type": "code",
   "execution_count": 1,
   "id": "widespread-center",
   "metadata": {},
   "outputs": [],
   "source": [
    "# sqlite3 package comes with the Python installation\n",
    "import sqlite3"
   ]
  },
  {
   "cell_type": "code",
   "execution_count": 2,
   "id": "departmental-dependence",
   "metadata": {},
   "outputs": [
    {
     "data": {
      "text/plain": [
       "[]"
      ]
     },
     "execution_count": 2,
     "metadata": {},
     "output_type": "execute_result"
    }
   ],
   "source": [
    "connection = sqlite3.connect('company.db')\n",
    "cursor = connection.cursor()\n",
    "sql_command = '''\n",
    "CREATE TABLE students AS\n",
    "    SELECT 1 AS student_id, \"John\" AS name, \"Computer Science\" AS major, 3.5 AS gpa, \"01-01-2022\" AS enrollment_date UNION\n",
    "    SELECT 2, \"Jane\", \"Physics\", 3.8, \"01-02-2022\" UNION\n",
    "    SELECT 3, \"Bob\", \"Engineering\", 3.0, \"01-03-2022\" UNION\n",
    "    SELECT 4, \"Samantha\", \"Physics\", 3.9, \"01-04-2022\" UNION\n",
    "    SELECT 5, \"James\", \"Engineering\", 3.7, \"01-05-2022\" UNION\n",
    "    SELECT 6, \"Emily\", \"Computer Science\", 3.6, \"01-06-2022\" UNION\n",
    "    SELECT 7, \"Michael\", \"Computer Science\", 3.2, \"01-07-2022\" UNION\n",
    "    SELECT 8, \"Jessica\", \"Engineering\", 3.8, \"01-08-2022\" UNION\n",
    "    SELECT 9, \"Jacob\", \"Physics\", 3.4, \"01-09-2022\" UNION\n",
    "    SELECT 10, \"Ashley\", \"Physics\", 3.9, \"01-10-2022\"\n",
    "'''\n",
    "cursor.execute(sql_command).fetchall()"
   ]
  },
  {
   "cell_type": "markdown",
   "id": "supported-celebration",
   "metadata": {},
   "source": [
    "### Question 1"
   ]
  },
  {
   "cell_type": "code",
   "execution_count": 3,
   "id": "valid-effectiveness",
   "metadata": {},
   "outputs": [
    {
     "data": {
      "text/plain": [
       "[(1, 'John', 'Computer Science', 3.5, '01-01-2022'),\n",
       " (2, 'Jane', 'Physics', 3.8, '01-02-2022'),\n",
       " (3, 'Bob', 'Engineering', 3.0, '01-03-2022'),\n",
       " (4, 'Samantha', 'Physics', 3.9, '01-04-2022'),\n",
       " (5, 'James', 'Engineering', 3.7, '01-05-2022'),\n",
       " (6, 'Emily', 'Computer Science', 3.6, '01-06-2022'),\n",
       " (7, 'Michael', 'Computer Science', 3.2, '01-07-2022'),\n",
       " (8, 'Jessica', 'Engineering', 3.8, '01-08-2022'),\n",
       " (9, 'Jacob', 'Physics', 3.4, '01-09-2022'),\n",
       " (10, 'Ashley', 'Physics', 3.9, '01-10-2022')]"
      ]
     },
     "execution_count": 3,
     "metadata": {},
     "output_type": "execute_result"
    }
   ],
   "source": [
    "sql_command= '''\n",
    "SELECT * \n",
    "FROM students\n",
    "'''\n",
    "cursor.execute(sql_command).fetchall()"
   ]
  },
  {
   "cell_type": "code",
   "execution_count": 4,
   "id": "hollow-ordering",
   "metadata": {},
   "outputs": [
    {
     "data": {
      "text/plain": [
       "[(1, 'John', 'Computer Science', 3.5, '01-01-2022'),\n",
       " (6, 'Emily', 'Computer Science', 3.6, '01-06-2022'),\n",
       " (7, 'Michael', 'Computer Science', 3.2, '01-07-2022')]"
      ]
     },
     "execution_count": 4,
     "metadata": {},
     "output_type": "execute_result"
    }
   ],
   "source": [
    "sql_command='''\n",
    "SELECT * \n",
    "FROM students\n",
    "WHERE major='Computer Science'\n",
    "'''\n",
    "cursor.execute(sql_command).fetchall()"
   ]
  },
  {
   "cell_type": "code",
   "execution_count": 5,
   "id": "revised-elder",
   "metadata": {},
   "outputs": [
    {
     "data": {
      "text/plain": [
       "[('Physics',), ('Engineering',), ('Computer Science',)]"
      ]
     },
     "execution_count": 5,
     "metadata": {},
     "output_type": "execute_result"
    }
   ],
   "source": [
    "sql_command='''\n",
    "SELECT DISTINCT major\n",
    "FROM students\n",
    "ORDER BY major DESC;\n",
    "'''\n",
    "cursor.execute(sql_command).fetchall()"
   ]
  },
  {
   "cell_type": "code",
   "execution_count": 6,
   "id": "latin-diary",
   "metadata": {},
   "outputs": [
    {
     "data": {
      "text/plain": [
       "[(7, 'Michael', 'Computer Science', 3.2, '01-07-2022'),\n",
       " (6, 'Emily', 'Computer Science', 3.6, '01-06-2022'),\n",
       " (5, 'James', 'Engineering', 3.7, '01-05-2022'),\n",
       " (2, 'Jane', 'Physics', 3.8, '01-02-2022'),\n",
       " (8, 'Jessica', 'Engineering', 3.8, '01-08-2022'),\n",
       " (10, 'Ashley', 'Physics', 3.9, '01-10-2022')]"
      ]
     },
     "execution_count": 6,
     "metadata": {},
     "output_type": "execute_result"
    }
   ],
   "source": [
    "sql_command='''\n",
    "SELECT * \n",
    "FROM students \n",
    "WHERE name LIKE '%e%'\n",
    "ORDER BY gpa;\n",
    "'''\n",
    "cursor.execute(sql_command).fetchall()"
   ]
  },
  {
   "cell_type": "markdown",
   "id": "noticed-aviation",
   "metadata": {},
   "source": [
    "### Question 2"
   ]
  },
  {
   "cell_type": "code",
   "execution_count": 7,
   "id": "mental-healthcare",
   "metadata": {},
   "outputs": [
    {
     "data": {
      "text/plain": [
       "[]"
      ]
     },
     "execution_count": 7,
     "metadata": {},
     "output_type": "execute_result"
    }
   ],
   "source": [
    "sql_command='''\n",
    "CREATE TABLE courses AS\n",
    "    SELECT 1 AS course_id, \"Python programming\" AS course_name, 1 AS student_id, \"A\" AS grade UNION\n",
    "    SELECT 2, \"Data Structures\", 2, \"B\" UNION\n",
    "    SELECT 3, \"Database Systems\", 3, \"B\" UNION\n",
    "    SELECT 1, \"Python programming\", 4, \"A\" UNION\n",
    "    SELECT 4, \"Quantum Mechanics\", 5, \"C\" UNION\n",
    "    SELECT 1, \"Python programming\", 6, \"F\" UNION\n",
    "    SELECT 2, \"Data Structures\", 7, \"C\" UNION\n",
    "    SELECT 3, \"Database Systems\", 8, \"A\" UNION\n",
    "    SELECT 4, \"Quantum Mechanics\", 9, \"A\" UNION\n",
    "    SELECT 2, \"Data Structures\", 10, \"F\";\n",
    "'''\n",
    "cursor.execute(sql_command).fetchall() "
   ]
  },
  {
   "cell_type": "code",
   "execution_count": 8,
   "id": "equipped-spending",
   "metadata": {},
   "outputs": [
    {
     "name": "stdout",
     "output_type": "stream",
     "text": [
      "The number of unique courses is [(4,)]\n"
     ]
    }
   ],
   "source": [
    "sql_command='''\n",
    "SELECT COUNT (DISTINCT course_name) AS no_of_distinct_courses\n",
    "FROM courses;\n",
    "'''\n",
    "print(\"The number of unique courses is\",cursor.execute(sql_command).fetchall())"
   ]
  },
  {
   "cell_type": "code",
   "execution_count": 9,
   "id": "secondary-northwest",
   "metadata": {},
   "outputs": [
    {
     "data": {
      "text/plain": [
       "[(2,)]"
      ]
     },
     "execution_count": 9,
     "metadata": {},
     "output_type": "execute_result"
    }
   ],
   "source": [
    "sql_command='''\n",
    "SELECT COUNT(*) AS comp_sci_major_with_python\n",
    "FROM students\n",
    "INNER JOIN courses\n",
    "USING (student_id)\n",
    "WHERE major = 'Computer Science' AND course_name='Python programming';\n",
    "'''\n",
    "cursor.execute(sql_command).fetchall() "
   ]
  },
  {
   "cell_type": "code",
   "execution_count": 10,
   "id": "indian-illinois",
   "metadata": {},
   "outputs": [
    {
     "data": {
      "text/plain": [
       "[(1,\n",
       "  'John',\n",
       "  'Computer Science',\n",
       "  3.5,\n",
       "  '01-01-2022',\n",
       "  1,\n",
       "  'Python programming',\n",
       "  'A'),\n",
       " (4, 'Samantha', 'Physics', 3.9, '01-04-2022', 1, 'Python programming', 'A'),\n",
       " (2, 'Jane', 'Physics', 3.8, '01-02-2022', 2, 'Data Structures', 'B'),\n",
       " (3, 'Bob', 'Engineering', 3.0, '01-03-2022', 3, 'Database Systems', 'B'),\n",
       " (8, 'Jessica', 'Engineering', 3.8, '01-08-2022', 3, 'Database Systems', 'A'),\n",
       " (9, 'Jacob', 'Physics', 3.4, '01-09-2022', 4, 'Quantum Mechanics', 'A')]"
      ]
     },
     "execution_count": 10,
     "metadata": {},
     "output_type": "execute_result"
    }
   ],
   "source": [
    "sql_command='''\n",
    "SELECT *\n",
    "FROM students\n",
    "INNER JOIN courses\n",
    "USING (student_id)\n",
    "WHERE grade<'C';\n",
    "'''\n",
    "cursor.execute(sql_command).fetchall() "
   ]
  },
  {
   "cell_type": "markdown",
   "id": "retired-address",
   "metadata": {},
   "source": [
    "### Question 3"
   ]
  },
  {
   "cell_type": "code",
   "execution_count": 11,
   "id": "blank-canadian",
   "metadata": {},
   "outputs": [
    {
     "data": {
      "text/plain": [
       "[(3.5800000000000005,)]"
      ]
     },
     "execution_count": 11,
     "metadata": {},
     "output_type": "execute_result"
    }
   ],
   "source": [
    "sql_command='''\n",
    "SELECT AVG(gpa) AS avg_gpa\n",
    "FROM students \n",
    "'''\n",
    "cursor.execute(sql_command).fetchall() "
   ]
  },
  {
   "cell_type": "code",
   "execution_count": 12,
   "id": "impressive-overall",
   "metadata": {},
   "outputs": [
    {
     "data": {
      "text/plain": [
       "[(4, 'Physics', 3.9), (10, 'Physics', 3.9)]"
      ]
     },
     "execution_count": 12,
     "metadata": {},
     "output_type": "execute_result"
    }
   ],
   "source": [
    "#SELECT the student with the maximum gpa, display only their student_id, major and gpa\n",
    "sql_command='''\n",
    "SELECT student_id,major,gpa\n",
    "FROM students\n",
    "WHERE gpa IN (SELECT MAX(gpa)\n",
    "             FROM students)\n",
    "'''\n",
    "cursor.execute(sql_command).fetchall()"
   ]
  },
  {
   "cell_type": "code",
   "execution_count": 13,
   "id": "maritime-pontiac",
   "metadata": {},
   "outputs": [
    {
     "data": {
      "text/plain": [
       "[(3, 'Engineering', 3.0)]"
      ]
     },
     "execution_count": 13,
     "metadata": {},
     "output_type": "execute_result"
    }
   ],
   "source": [
    "#SELECT the student with the minimum gpa, display only their student_id, major and gpa\n",
    "sql_command='''\n",
    "SELECT student_id,major,gpa\n",
    "FROM students\n",
    "WHERE gpa IN (SELECT MIN(gpa)\n",
    "             FROM students)\n",
    "'''\n",
    "cursor.execute(sql_command).fetchall()"
   ]
  },
  {
   "cell_type": "code",
   "execution_count": 14,
   "id": "advanced-rider",
   "metadata": {},
   "outputs": [
    {
     "data": {
      "text/plain": [
       "[(2, 'Physics', 3.8),\n",
       " (4, 'Physics', 3.9),\n",
       " (5, 'Engineering', 3.7),\n",
       " (8, 'Engineering', 3.8),\n",
       " (10, 'Physics', 3.9)]"
      ]
     },
     "execution_count": 14,
     "metadata": {},
     "output_type": "execute_result"
    }
   ],
   "source": [
    "#SELECT the students with a gpa greater than 3.6 in the majors of \"Physics\" and \"Engineering\", display only their student_id, major and gpa\n",
    "sql_command='''\n",
    "SELECT student_id,major,gpa\n",
    "FROM students\n",
    "WHERE gpa>3.6 AND major IN ('Physics','Engineering');\n",
    "'''\n",
    "cursor.execute(sql_command).fetchall()"
   ]
  },
  {
   "cell_type": "code",
   "execution_count": 17,
   "id": "identical-ratio",
   "metadata": {},
   "outputs": [
    {
     "data": {
      "text/plain": [
       "[('Computer Science', 3.4333333333333336),\n",
       " ('Engineering', 3.5),\n",
       " ('Physics', 3.75)]"
      ]
     },
     "execution_count": 17,
     "metadata": {},
     "output_type": "execute_result"
    }
   ],
   "source": [
    "#Group the students by their major and retrieve the average grade of each major\n",
    "sql_command='''\n",
    "SELECT major,AVG(gpa)\n",
    "FROM students\n",
    "GROUP BY major;\n",
    "'''\n",
    "cursor.execute(sql_command).fetchall()"
   ]
  },
  {
   "cell_type": "code",
   "execution_count": 19,
   "id": "filled-article",
   "metadata": {},
   "outputs": [
    {
     "data": {
      "text/plain": [
       "[(6, 'Emily', 'Computer Science', 3.6, '01-06-2022'),\n",
       " (1, 'John', 'Computer Science', 3.5, '01-01-2022'),\n",
       " (8, 'Jessica', 'Engineering', 3.8, '01-08-2022'),\n",
       " (5, 'James', 'Engineering', 3.7, '01-05-2022'),\n",
       " (4, 'Samantha', 'Physics', 3.9, '01-04-2022'),\n",
       " (10, 'Ashley', 'Physics', 3.9, '01-10-2022')]"
      ]
     },
     "execution_count": 19,
     "metadata": {},
     "output_type": "execute_result"
    }
   ],
   "source": [
    "#SELECT the top 2 students with the highest GPA in each major and order the results by major in ascending order, then by GPA in descending order\n",
    "sql_command='''\n",
    "SELECT student_id,name,major,gpa,enrollment_date\n",
    "FROM (SELECT student_id,name,major,gpa,enrollment_date,\n",
    "     ROW_NUMBER() OVER (PARTITION BY major ORDER BY gpa DESC) AS rank_within_major\n",
    "     FROM students\n",
    "     )\n",
    "WHERE rank_within_major<3\n",
    "ORDER BY major,gpa DESC;\n",
    "'''\n",
    "cursor.execute(sql_command).fetchall()"
   ]
  },
  {
   "cell_type": "code",
   "execution_count": null,
   "id": "polyphonic-symbol",
   "metadata": {},
   "outputs": [],
   "source": []
  },
  {
   "cell_type": "code",
   "execution_count": null,
   "id": "caring-humidity",
   "metadata": {},
   "outputs": [],
   "source": []
  }
 ],
 "metadata": {
  "interpreter": {
   "hash": "814e02130bf57b709ae2e6aae41bac486f4fe9646c37a31ec3b44537db137f29"
  },
  "kernelspec": {
   "display_name": "Python 3",
   "language": "python",
   "name": "python3"
  },
  "language_info": {
   "codemirror_mode": {
    "name": "ipython",
    "version": 3
   },
   "file_extension": ".py",
   "mimetype": "text/x-python",
   "name": "python",
   "nbconvert_exporter": "python",
   "pygments_lexer": "ipython3",
   "version": "3.9.1"
  }
 },
 "nbformat": 4,
 "nbformat_minor": 5
}
